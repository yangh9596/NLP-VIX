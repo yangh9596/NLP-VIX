{
 "cells": [
  {
   "cell_type": "code",
   "execution_count": 1,
   "metadata": {
    "collapsed": true
   },
   "outputs": [],
   "source": [
    "%matplotlib inline\n",
    "import warnings\n",
    "warnings.filterwarnings('ignore')\n",
    "import pandas as pd\n",
    "import numpy as np\n",
    "import sklearn as sk\n",
    "import scipy as sp\n",
    "import matplotlib as plt\n",
    "from sklearn.feature_extraction.text import CountVectorizer, TfidfTransformer\n",
    "from sklearn.linear_model import LogisticRegression"
   ]
  },
  {
   "cell_type": "markdown",
   "metadata": {},
   "source": [
    "# 1. Read and clean the data"
   ]
  },
  {
   "cell_type": "code",
   "execution_count": 2,
   "metadata": {
    "collapsed": false
   },
   "outputs": [
    {
     "name": "stdout",
     "output_type": "stream",
     "text": [
      "(1989, 27)\n"
     ]
    }
   ],
   "source": [
    "data = pd.read_csv('Combined_News_DJIA.csv')\n",
    "print(data.shape)\n",
    "\n",
    "train = data[data['Date'] < '2015-01-01']\n",
    "test = data[data['Date'] > '2014-12-31']"
   ]
  },
  {
   "cell_type": "markdown",
   "metadata": {},
   "source": [
    "## Word Counts: CountVectorizer"
   ]
  },
  {
   "cell_type": "code",
   "execution_count": 3,
   "metadata": {
    "collapsed": false
   },
   "outputs": [],
   "source": [
    "cv_object = CountVectorizer(token_pattern = '[a-zA-Z]{2,}', \n",
    "                            lowercase = True, \n",
    "                            stop_words = 'english', \n",
    "                            min_df = 3,\n",
    "                            ngram_range = (2,2)\n",
    "                           )  # do we need to use a N-gram model?\n",
    "\n",
    "# train set\n",
    "# build a \"single list of strings\"\n",
    "trainheadlines = []\n",
    "for row in range(0,len(train.index)):\n",
    "    trainheadlines.append(' '.join(str(x) for x in train.iloc[row,2:27]))\n",
    "train_mat = cv_object.fit_transform(trainheadlines)\n",
    "\n",
    "# test set\n",
    "testheadlines = []\n",
    "for row in range(0,len(test.index)):\n",
    "    testheadlines.append(' '.join(str(x) for x in test.iloc[row,2:27]))\n",
    "test_mat = cv_object.transform(testheadlines)"
   ]
  },
  {
   "cell_type": "code",
   "execution_count": 4,
   "metadata": {
    "collapsed": false
   },
   "outputs": [
    {
     "name": "stdout",
     "output_type": "stream",
     "text": [
      "(1611, 13428)\n",
      "(378, 13428)\n",
      "['aaa credit', 'aaa rating', 'abbot point', 'abbott government', 'abbott says', 'abc news', 'abducted women', 'abdullah bin', 'abdullah jordan', 'abdullah saleh']\n"
     ]
    }
   ],
   "source": [
    "# summary\n",
    "# dimensions\n",
    "print(train_mat.shape)\n",
    "print(test_mat.shape)\n",
    "\n",
    "# top 15 words\n",
    "print(cv_object.get_feature_names()[:10])\n",
    "# many stemming words, emmmmm"
   ]
  },
  {
   "cell_type": "code",
   "execution_count": 5,
   "metadata": {
    "collapsed": false
   },
   "outputs": [],
   "source": [
    "# logistic model\n",
    "lm = LogisticRegression()\n",
    "lm.fit(train_mat, train[\"Label\"])\n",
    "\n",
    "test_yhat = lm.predict(test_mat)"
   ]
  },
  {
   "cell_type": "code",
   "execution_count": 6,
   "metadata": {
    "collapsed": false
   },
   "outputs": [
    {
     "name": "stdout",
     "output_type": "stream",
     "text": [
      "Predicted   0    1\n",
      "Actual            \n",
      "0          90   96\n",
      "1          74  118\n",
      "0.449735449735\n"
     ]
    }
   ],
   "source": [
    "# confusion matrix\n",
    "confusion = pd.crosstab(test[\"Label\"], test_yhat, rownames=[\"Actual\"], colnames=[\"Predicted\"])\n",
    "print(confusion)\n",
    "\n",
    "# misclassification rate\n",
    "mis = np.mean(test_yhat != test[\"Label\"])\n",
    "print(mis)"
   ]
  },
  {
   "cell_type": "markdown",
   "metadata": {},
   "source": [
    "## Word Frequency: TfidVectorizer"
   ]
  },
  {
   "cell_type": "code",
   "execution_count": 7,
   "metadata": {
    "collapsed": false
   },
   "outputs": [],
   "source": [
    "tfid = TfidfTransformer(use_idf=True)\n",
    "train_mat2 = tfid.fit_transform(train_mat)\n",
    "test_mat2 = tfid.transform(test_mat)"
   ]
  },
  {
   "cell_type": "code",
   "execution_count": 8,
   "metadata": {
    "collapsed": false
   },
   "outputs": [
    {
     "name": "stdout",
     "output_type": "stream",
     "text": [
      "Predicted   0    1\n",
      "Actual            \n",
      "0          27  159\n",
      "1          28  164\n",
      "0.494708994709\n"
     ]
    }
   ],
   "source": [
    "# logistic model\n",
    "lm = LogisticRegression()\n",
    "lm.fit(train_mat2, train[\"Label\"])\n",
    "\n",
    "test_yhat = lm.predict(test_mat2)\n",
    "\n",
    "# confusion matrix\n",
    "confusion = pd.crosstab(test[\"Label\"], test_yhat, rownames=[\"Actual\"], colnames=[\"Predicted\"])\n",
    "print(confusion)\n",
    "\n",
    "# misclassification rate\n",
    "mis = np.mean(test_yhat != test[\"Label\"])\n",
    "print(mis)"
   ]
  },
  {
   "cell_type": "markdown",
   "metadata": {},
   "source": [
    "Available approaches:\n",
    "1. Logistic regression/GAM ...\n",
    "2. Bayesian Models\n",
    "3. PCA/Matrix factorization\n",
    "4. LDA/Clustering\n",
    "\n",
    "Also, we have to deal with the stemming problem (use nltk)"
   ]
  },
  {
   "cell_type": "code",
   "execution_count": 13,
   "metadata": {
    "collapsed": false
   },
   "outputs": [],
   "source": [
    "a = np.random.randn(12288, 150) # a.shape = (12288, 150)\n",
    "b = np.random.randn(150, 45) # b.shape = (150, 45)\n",
    "c = np.dot(a,b)"
   ]
  },
  {
   "cell_type": "code",
   "execution_count": null,
   "metadata": {
    "collapsed": true
   },
   "outputs": [],
   "source": []
  }
 ],
 "metadata": {
  "kernelspec": {
   "display_name": "Python 3",
   "language": "python",
   "name": "python3"
  },
  "language_info": {
   "codemirror_mode": {
    "name": "ipython",
    "version": 3
   },
   "file_extension": ".py",
   "mimetype": "text/x-python",
   "name": "python",
   "nbconvert_exporter": "python",
   "pygments_lexer": "ipython3",
   "version": "3.5.5"
  }
 },
 "nbformat": 4,
 "nbformat_minor": 0
}
