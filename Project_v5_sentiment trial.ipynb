{
 "cells": [
  {
   "cell_type": "code",
   "execution_count": 1,
   "metadata": {
    "collapsed": true
   },
   "outputs": [],
   "source": [
    "%matplotlib inline\n",
    "import warnings\n",
    "warnings.filterwarnings('ignore')\n",
    "import pandas as pd\n",
    "import numpy as np\n",
    "import sklearn as sk\n",
    "import scipy as sp\n",
    "import matplotlib.pyplot as plt\n",
    "from sklearn.feature_extraction.text import CountVectorizer, TfidfTransformer\n",
    "from sklearn.linear_model import LogisticRegression\n",
    "\n",
    "import re\n",
    "\n",
    "from nltk.sentiment.vader import SentimentIntensityAnalyzer as SIA\n",
    "import nltk\n",
    "# nltk.download('vader_lexicon')"
   ]
  },
  {
   "cell_type": "markdown",
   "metadata": {},
   "source": [
    "# Data processing"
   ]
  },
  {
   "cell_type": "code",
   "execution_count": 2,
   "metadata": {
    "collapsed": false
   },
   "outputs": [
    {
     "name": "stdout",
     "output_type": "stream",
     "text": [
      "(1989, 27)\n"
     ]
    }
   ],
   "source": [
    "data = pd.read_csv('C:/Users/Drtong/Desktop/ML project/Combined_News_DJIA.csv')\n",
    "print(data.shape)\n",
    "\n",
    "# from nltk.stem.snowball import SnowballStemmer\n",
    "# stemmer = SnowballStemmer(\"english\",ignore_stopwords=True)\n",
    "# for i in range (data.shape[0]):\n",
    "#     for j in range (1,data.shape[1]):\n",
    "#         temp=data.iloc[i,j]\n",
    "#         if type(temp)!=str:\n",
    "#             continue\n",
    "#         temp= re.sub(r'[?|$|.|!]','',temp[2:-1])\n",
    "#         temp=re.sub(r'[^A-Za-z$]{2,}', ' ', temp)\n",
    "#         data.iloc[i,j]=\" \".join([stemmer.stem(k) for k in temp.split()])\n",
    "        \n",
    "# train = data[data['Date'] < '2015-01-01']\n",
    "# test = data[data['Date'] > '2014-12-31']"
   ]
  },
  {
   "cell_type": "markdown",
   "metadata": {},
   "source": [
    "## Use sentiment lexicon to create sentiment score"
   ]
  },
  {
   "cell_type": "code",
   "execution_count": 3,
   "metadata": {
    "collapsed": true
   },
   "outputs": [],
   "source": [
    "sentiment=np.zeros((data.shape[0],data.shape[1]-2))\n",
    "sia=SIA()\n",
    "for i in range (data.shape[0]):\n",
    "    for j in range (2,data.shape[1]):\n",
    "        temp=data.iloc[i,j]\n",
    "        if type(temp)!=str:\n",
    "            sentiment[i,j-2]=None\n",
    "            continue\n",
    "        temp=re.sub(r'[?|$|.|!]','',temp[2:-1])\n",
    "        sentiment[i,j-2]=sia.polarity_scores(temp)['compound']"
   ]
  },
  {
   "cell_type": "markdown",
   "metadata": {},
   "source": [
    "## distribution of sentiment score"
   ]
  },
  {
   "cell_type": "code",
   "execution_count": 4,
   "metadata": {
    "collapsed": false
   },
   "outputs": [
    {
     "data": {
      "image/png": "[encoded data removed]",
      "text/plain": [
       "<matplotlib.figure.Figure at 0x206d84be9e8>"
      ]
     },
     "metadata": {},
     "output_type": "display_data"
    }
   ],
   "source": [
    "temp=sentiment.reshape((data.shape[0]*(data.shape[1]-2),1))\n",
    "temp=temp[~np.isnan(temp)]\n",
    "plt.hist(temp)\n",
    "plt.axvline(x=np.percentile(temp,90),color='red')\n",
    "plt.axvline(x=np.percentile(temp,10),color='red')\n",
    "plt.show()"
   ]
  },
  {
   "cell_type": "markdown",
   "metadata": {},
   "source": [
    "## leave out the close to neutral headlines"
   ]
  },
  {
   "cell_type": "code",
   "execution_count": 5,
   "metadata": {
    "collapsed": true
   },
   "outputs": [],
   "source": [
    "upper=np.nanpercentile(sentiment,90)\n",
    "lower=np.nanpercentile(sentiment,10)\n",
    "x=np.zeros((data.shape[0],3))\n",
    "for i in range (data.shape[0]):\n",
    "    temp=sentiment[i]\n",
    "    x[i,0]=np.sum(sentiment[i]>upper)\n",
    "    x[i,1]=np.sum(sentiment[i]<lower)\n",
    "    x[i,2]=x[i,0]-x[i,1]"
   ]
  },
  {
   "cell_type": "code",
   "execution_count": 37,
   "metadata": {
    "collapsed": false
   },
   "outputs": [
    {
     "data": {
      "text/plain": [
       "(1578, 3)"
      ]
     },
     "execution_count": 37,
     "metadata": {},
     "output_type": "execute_result"
    }
   ],
   "source": [
    "idx=(np.abs(x[:,2])==0)\n",
    "x_adj=x[~idx]\n",
    "data_adj=data[~idx]\n",
    "x_adj.shape"
   ]
  },
  {
   "cell_type": "markdown",
   "metadata": {},
   "source": [
    "# Fit a logistic regression model"
   ]
  },
  {
   "cell_type": "code",
   "execution_count": 33,
   "metadata": {
    "collapsed": true
   },
   "outputs": [],
   "source": [
    "x_train=x_adj[data_adj['Date'] < '2015-01-01',2]\n",
    "x_train=x_train.reshape((x_train.shape[0],1))\n",
    "x_test=x_adj[data_adj['Date'] > '2014-12-31',2]\n",
    "x_test=x_test.reshape((x_test.shape[0],1))\n",
    "y_train=data_adj[data_adj['Date'] < '2015-01-01']['Label']\n",
    "y_test=data_adj[data_adj['Date'] > '2014-12-31']['Label']"
   ]
  },
  {
   "cell_type": "code",
   "execution_count": 34,
   "metadata": {
    "collapsed": false
   },
   "outputs": [
    {
     "name": "stdout",
     "output_type": "stream",
     "text": [
      "training error is 0.4685802948021722, testing error is 0.4809688581314879\n"
     ]
    }
   ],
   "source": [
    "from sklearn.linear_model import LogisticRegression\n",
    "lm_fit= LogisticRegression()\n",
    "lm_fit.fit(x_train,y_train)\n",
    "y_estimate=lm_fit.predict(x_train)\n",
    "y_predict = lm_fit.predict(x_test)\n",
    "mis=np.mean(y_estimate!=y_train)\n",
    "lm_mis=np.mean(y_predict!=y_test)\n",
    "print(\"training error is %s, testing error is %s\"%(mis, lm_mis))"
   ]
  },
  {
   "cell_type": "code",
   "execution_count": 35,
   "metadata": {
    "collapsed": true
   },
   "outputs": [],
   "source": [
    "prob_predict=lm_fit.predict_proba(x_test)[:,1]"
   ]
  },
  {
   "cell_type": "code",
   "execution_count": 36,
   "metadata": {
    "collapsed": false
   },
   "outputs": [
    {
     "data": {
      "text/plain": [
       "<matplotlib.legend.Legend at 0x206d7946e80>"
      ]
     },
     "execution_count": 36,
     "metadata": {},
     "output_type": "execute_result"
    },
    {
     "data": {
      "image/png": "[encoded data removed]",
      "text/plain": [
       "<matplotlib.figure.Figure at 0x206d7910b00>"
      ]
     },
     "metadata": {},
     "output_type": "display_data"
    }
   ],
   "source": [
    "fpr, tpr, _=sk.metrics.roc_curve(y_test, prob_predict)\n",
    "plt.plot(fpr,tpr,\"-\")\n",
    "plt.plot(fpr,fpr,\"-\")\n",
    "plt.xlabel(\"false positive rate: $Pr(f(x)=1|Y=0)$\")\n",
    "plt.ylabel(\"true positive rate: $Pr(f(x)=1|Y=1)$\")\n",
    "plt.title(\"ROC curve for logisitic prediction\")\n",
    "plt.legend([\"logistic regression\",\"silly classification\"])"
   ]
  }
 ],
 "metadata": {
  "kernelspec": {
   "display_name": "Python 3",
   "language": "python",
   "name": "python3"
  },
  "language_info": {
   "codemirror_mode": {
    "name": "ipython",
    "version": 3
   },
   "file_extension": ".py",
   "mimetype": "text/x-python",
   "name": "python",
   "nbconvert_exporter": "python",
   "pygments_lexer": "ipython3",
   "version": "3.5.5"
  }
 },
 "nbformat": 4,
 "nbformat_minor": 2
}
