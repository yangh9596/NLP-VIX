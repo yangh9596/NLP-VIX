{
 "cells": [
  {
   "cell_type": "code",
   "execution_count": 40,
   "metadata": {
    "collapsed": true
   },
   "outputs": [],
   "source": [
    "%matplotlib inline\n",
    "import warnings\n",
    "warnings.filterwarnings('ignore')\n",
    "import pandas as pd\n",
    "import numpy as np\n",
    "import sklearn as sk\n",
    "import scipy as sp\n",
    "import matplotlib.pyplot as plt\n",
    "from sklearn.feature_extraction.text import CountVectorizer, TfidfTransformer\n",
    "from sklearn.linear_model import LogisticRegression"
   ]
  },
  {
   "cell_type": "markdown",
   "metadata": {},
   "source": [
    "# 1. Read and clean the data"
   ]
  },
  {
   "cell_type": "code",
   "execution_count": 2,
   "metadata": {
    "collapsed": false
   },
   "outputs": [
    {
     "name": "stdout",
     "output_type": "stream",
     "text": [
      "(1989, 27)\n"
     ]
    }
   ],
   "source": [
    "data = pd.read_csv('Combined_News_DJIA.csv')\n",
    "print(data.shape)\n",
    "\n",
    "\n",
    "train = data[data['Date'] < '2015-01-01']\n",
    "test = data[data['Date'] > '2014-12-31']"
   ]
  },
  {
   "cell_type": "markdown",
   "metadata": {},
   "source": [
    "## Word Counts: CountVectorizer"
   ]
  },
  {
   "cell_type": "code",
   "execution_count": 3,
   "metadata": {
    "collapsed": true
   },
   "outputs": [],
   "source": [
    "cv_object = CountVectorizer(token_pattern = '[a-zA-Z]{2,}', \n",
    "                            lowercase = True, \n",
    "                            stop_words = 'english', \n",
    "                            min_df = 3,\n",
    "                            ngram_range = (1,3)\n",
    "                           )  # do we need to use a N-gram model?\n",
    "\n",
    "# train set\n",
    "# build a \"single list of strings\"\n",
    "trainheadlines = []\n",
    "for row in range(0,len(train.index)):\n",
    "    trainheadlines.append(' '.join(str(x) for x in train.iloc[row,2:27]))\n",
    "train_mat = cv_object.fit_transform(trainheadlines)\n",
    "\n",
    "# test set\n",
    "testheadlines = []\n",
    "for row in range(0,len(test.index)):\n",
    "    testheadlines.append(' '.join(str(x) for x in test.iloc[row,2:27]))\n",
    "test_mat = cv_object.transform(testheadlines)"
   ]
  },
  {
   "cell_type": "code",
   "execution_count": 4,
   "metadata": {
    "collapsed": false
   },
   "outputs": [
    {
     "name": "stdout",
     "output_type": "stream",
     "text": [
      "(1611, 28577)\n",
      "(378, 28577)\n",
      "['aaa', 'aaa credit', 'aaa rating', 'abandon', 'abandoned', 'abandoning', 'abandonment', 'abandons', 'abbas', 'abbot']\n"
     ]
    }
   ],
   "source": [
    "# summary\n",
    "# dimensions\n",
    "print(train_mat.shape)\n",
    "print(test_mat.shape)\n",
    "\n",
    "# top 15 words\n",
    "print(cv_object.get_feature_names()[:10])\n",
    "# many stemming words, emmmmm"
   ]
  },
  {
   "cell_type": "code",
   "execution_count": 5,
   "metadata": {
    "collapsed": true
   },
   "outputs": [],
   "source": [
    "# logistic model\n",
    "lm = LogisticRegression()\n",
    "lm.fit(train_mat, train[\"Label\"])\n",
    "\n",
    "test_yhat = lm.predict(test_mat)"
   ]
  },
  {
   "cell_type": "code",
   "execution_count": 6,
   "metadata": {
    "collapsed": false
   },
   "outputs": [
    {
     "name": "stdout",
     "output_type": "stream",
     "text": [
      "Predicted   0    1\n",
      "Actual            \n",
      "0          67  119\n",
      "1          94   98\n",
      "0.563492063492\n"
     ]
    }
   ],
   "source": [
    "# confusion matrix\n",
    "confusion = pd.crosstab(test[\"Label\"], test_yhat, rownames=[\"Actual\"], colnames=[\"Predicted\"])\n",
    "print(confusion)\n",
    "\n",
    "# misclassification rate\n",
    "mis = np.mean(test_yhat != test[\"Label\"])\n",
    "print(mis)"
   ]
  },
  {
   "cell_type": "markdown",
   "metadata": {},
   "source": [
    "## Word Frequency: TfidVectorizer"
   ]
  },
  {
   "cell_type": "code",
   "execution_count": 51,
   "metadata": {
    "collapsed": true
   },
   "outputs": [],
   "source": [
    "tfid = TfidfTransformer(use_idf=True)\n",
    "train_mat2 = tfid.fit_transform(train_mat)\n",
    "test_mat2 = tfid.transform(test_mat)"
   ]
  },
  {
   "cell_type": "code",
   "execution_count": 8,
   "metadata": {
    "collapsed": false
   },
   "outputs": [
    {
     "name": "stdout",
     "output_type": "stream",
     "text": [
      "Predicted   0    1\n",
      "Actual            \n",
      "0          17  169\n",
      "1          25  167\n",
      "0.513227513228\n"
     ]
    }
   ],
   "source": [
    "# logistic model\n",
    "lm = LogisticRegression()\n",
    "lm.fit(train_mat2, train[\"Label\"])\n",
    "\n",
    "test_yhat = lm.predict(test_mat2)\n",
    "\n",
    "# confusion matrix\n",
    "confusion = pd.crosstab(test[\"Label\"], test_yhat, rownames=[\"Actual\"], colnames=[\"Predicted\"])\n",
    "print(confusion)\n",
    "\n",
    "# misclassification rate\n",
    "mis = np.mean(test_yhat != test[\"Label\"])\n",
    "print(mis)"
   ]
  },
  {
   "cell_type": "markdown",
   "metadata": {},
   "source": [
    "## Logistic Lasso"
   ]
  },
  {
   "cell_type": "code",
   "execution_count": 55,
   "metadata": {
    "collapsed": false,
    "scrolled": true
   },
   "outputs": [
    {
     "name": "stdout",
     "output_type": "stream",
     "text": [
      "Testing Misclassification Rate:  0.5264550264550265\n"
     ]
    }
   ],
   "source": [
    "from sklearn.linear_model import LogisticRegressionCV\n",
    "model = LogisticRegression(penalty = 'l1', solver = 'liblinear')\n",
    "lasso = model.fit(train_mat,train[\"Label\"])\n",
    "alphas = [0.00001,0.0001,0.001,0.01,0.1,1,10]\n",
    "clf_lasso = LogisticRegressionCV(cv=5,Cs = alphas,penalty = 'l1',solver ='liblinear') # Already normalized\n",
    "clf_lasso.fit(train_mat,train[\"Label\"])\n",
    "pred_lassolog_test = clf_lasso.predict(test_mat)\n",
    "print(\"Testing Misclassification Rate: \", np.mean(test[\"Label\"] != pred_lassolog_test\n",
    "))"
   ]
  },
  {
   "cell_type": "markdown",
   "metadata": {},
   "source": [
    "## Logistic Ridge"
   ]
  },
  {
   "cell_type": "code",
   "execution_count": 49,
   "metadata": {
    "collapsed": false
   },
   "outputs": [
    {
     "name": "stdout",
     "output_type": "stream",
     "text": [
      "Testing Misclassification Rate:  0.49206349206349204\n"
     ]
    }
   ],
   "source": [
    "model = LogisticRegression(penalty = 'l2', solver = 'liblinear')\n",
    "ridge = model.fit(train_mat,train[\"Label\"])\n",
    "alphas = [0.00001,0.0001,0.001,0.01,0.1,1,10]\n",
    "clf = LogisticRegressionCV(cv=5,Cs = alphas,penalty = 'l2',solver ='liblinear') # Already normalized\n",
    "clf.fit(train_mat,train[\"Label\"])\n",
    "pred_lassolog_test = clf.predict(test_mat)\n",
    "print(\"Testing Misclassification Rate: \", np.mean(test[\"Label\"] != pred_lassolog_test\n",
    "))"
   ]
  },
  {
   "cell_type": "markdown",
   "metadata": {},
   "source": [
    "## Word Frequency: TfidVectorizer Lasso& Ridge"
   ]
  },
  {
   "cell_type": "code",
   "execution_count": 52,
   "metadata": {
    "collapsed": false
   },
   "outputs": [
    {
     "name": "stdout",
     "output_type": "stream",
     "text": [
      "Predicted    1\n",
      "Actual        \n",
      "0          186\n",
      "1          192\n",
      "0.49206349206349204\n"
     ]
    }
   ],
   "source": [
    "lasso = LogisticRegression(penalty = 'l1', solver = 'liblinear')\n",
    "lasso.fit(train_mat2, train[\"Label\"])\n",
    "\n",
    "test_yhat = lasso.predict(test_mat2)\n",
    "\n",
    "# confusion matrix\n",
    "confusion = pd.crosstab(test[\"Label\"], test_yhat, rownames=[\"Actual\"], colnames=[\"Predicted\"])\n",
    "print(confusion)\n",
    "\n",
    "# misclassification rate\n",
    "mis = np.mean(test_yhat != test[\"Label\"])\n",
    "print(mis)"
   ]
  },
  {
   "cell_type": "code",
   "execution_count": 53,
   "metadata": {
    "collapsed": false
   },
   "outputs": [
    {
     "name": "stdout",
     "output_type": "stream",
     "text": [
      "Predicted   0    1\n",
      "Actual            \n",
      "0          17  169\n",
      "1          25  167\n",
      "0.5132275132275133\n"
     ]
    }
   ],
   "source": [
    "ridge = LogisticRegression(penalty = 'l2', solver = 'liblinear')\n",
    "ridge.fit(train_mat2, train[\"Label\"])\n",
    "\n",
    "test_yhat = ridge.predict(test_mat2)\n",
    "\n",
    "# confusion matrix\n",
    "confusion = pd.crosstab(test[\"Label\"], test_yhat, rownames=[\"Actual\"], colnames=[\"Predicted\"])\n",
    "print(confusion)\n",
    "\n",
    "# misclassification rate\n",
    "mis = np.mean(test_yhat != test[\"Label\"])\n",
    "print(mis)"
   ]
  },
  {
   "cell_type": "markdown",
   "metadata": {},
   "source": [
    "Available approaches:\n",
    "1. Logistic regression/GAM ...\n",
    "2. Bayesian Models\n",
    "3. PCA/Matrix factorization\n",
    "4. LDA/Clustering\n",
    "\n",
    "Also, we have to deal with the stemming problem (use nltk)"
   ]
  },
  {
   "cell_type": "markdown",
   "metadata": {},
   "source": [
    "## GAM Time Exceed"
   ]
  },
  {
   "cell_type": "code",
   "execution_count": 4,
   "metadata": {
    "collapsed": true
   },
   "outputs": [],
   "source": [
    "from pygam import LinearGAM\n",
    "from pygam.utils import generate_X_grid"
   ]
  },
  {
   "cell_type": "code",
   "execution_count": 24,
   "metadata": {
    "collapsed": true
   },
   "outputs": [],
   "source": [
    "%%capture\n",
    "train_mat_dense = train_mat.todense()\n",
    "gam = LinearGAM().gridsearch(train_mat_dense, train[\"Label\"],lam = np.logspace(-5, 3, 30))"
   ]
  },
  {
   "cell_type": "code",
   "execution_count": 22,
   "metadata": {
    "collapsed": false
   },
   "outputs": [
    {
     "data": {
      "text/plain": [
       "(1611, 28577)"
      ]
     },
     "execution_count": 22,
     "metadata": {},
     "output_type": "execute_result"
    }
   ],
   "source": [
    "train_mat_dense.shape"
   ]
  },
  {
   "cell_type": "markdown",
   "metadata": {},
   "source": [
    "## Random Forest"
   ]
  },
  {
   "cell_type": "code",
   "execution_count": 36,
   "metadata": {
    "collapsed": true
   },
   "outputs": [],
   "source": [
    "from sklearn import ensemble\n",
    "from sklearn.tree import DecisionTreeClassifier\n",
    "from sklearn.metrics import roc_curve"
   ]
  },
  {
   "cell_type": "code",
   "execution_count": 28,
   "metadata": {
    "collapsed": true
   },
   "outputs": [],
   "source": [
    "RF = ensemble.RandomForestClassifier(n_estimators=500,oob_score=True,random_state = 1).fit(train_mat_dense, train[\"Label\"])"
   ]
  },
  {
   "cell_type": "code",
   "execution_count": 60,
   "metadata": {
    "collapsed": false
   },
   "outputs": [
    {
     "name": "stdout",
     "output_type": "stream",
     "text": [
      "Out-of-bag Misclassification Rate:  0.4761018001241465\n",
      "Misclassification Rate:  0.5264550264550265\n"
     ]
    }
   ],
   "source": [
    "test_mat_dense = test_mat.todense()\n",
    "pred_RF_prob = RF.predict_proba(test_mat)[:,1]\n",
    "pred_RF = RF.predict(test_mat)\n",
    "print(\"Out-of-bag Misclassification Rate: \", 1 - RF.oob_score_)\n",
    "print(\"Misclassification Rate: \", np.mean(pred_RF != test[\"Label\"]))"
   ]
  },
  {
   "cell_type": "code",
   "execution_count": 32,
   "metadata": {
    "collapsed": false
   },
   "outputs": [
    {
     "name": "stdout",
     "output_type": "stream",
     "text": [
      "AUC:  0.47384632616487454\n"
     ]
    }
   ],
   "source": [
    "print(\"AUC: \", sk.metrics.roc_auc_score(test[\"Label\"],pred_RF_prob))"
   ]
  },
  {
   "cell_type": "code",
   "execution_count": 41,
   "metadata": {
    "collapsed": false
   },
   "outputs": [
    {
     "data": {
      "text/plain": [
       "<matplotlib.legend.Legend at 0x25edac0da58>"
      ]
     },
     "execution_count": 41,
     "metadata": {},
     "output_type": "execute_result"
    },
    {
     "data": {
      "image/png": "[encoded data removed]",
      "text/plain": [
       "<matplotlib.figure.Figure at 0x25edbc9e908>"
      ]
     },
     "metadata": {},
     "output_type": "display_data"
    }
   ],
   "source": [
    "index_RF = np.argsort(pred_RF_prob)\n",
    "fpr_RF, tpr_RF, _ = roc_curve(test[\"Label\"].iloc[index_RF], pred_RF_prob[index_RF])\n",
    "plt.figure()\n",
    "plt.plot(fpr_RF, tpr_RF, color = \"purple\", label = \"ROC curve RF\")\n",
    "plt.plot([0,1],[0,1],linestyle = \"--\")\n",
    "plt.xlabel(\"FPR\")\n",
    "plt.ylabel(\"TPR\")\n",
    "plt.legend(loc=\"lower right\")"
   ]
  },
  {
   "cell_type": "code",
   "execution_count": 54,
   "metadata": {
    "collapsed": false
   },
   "outputs": [
    {
     "name": "stdout",
     "output_type": "stream",
     "text": [
      "Predicted   0    1\n",
      "Actual            \n",
      "0          21  165\n",
      "1          42  150\n",
      "0.5476190476190477\n"
     ]
    }
   ],
   "source": [
    "rf = ensemble.RandomForestClassifier(n_estimators=500,oob_score=True,random_state = 1)\n",
    "rf.fit(train_mat2, train[\"Label\"])\n",
    "\n",
    "test_yhat = rf.predict(test_mat2)\n",
    "\n",
    "# confusion matrix\n",
    "confusion = pd.crosstab(test[\"Label\"], test_yhat, rownames=[\"Actual\"], colnames=[\"Predicted\"])\n",
    "print(confusion)\n",
    "\n",
    "# misclassification rate\n",
    "mis = np.mean(test_yhat != test[\"Label\"])\n",
    "print(mis)"
   ]
  },
  {
   "cell_type": "markdown",
   "metadata": {},
   "source": [
    "### Lasso + RF"
   ]
  },
  {
   "cell_type": "code",
   "execution_count": 61,
   "metadata": {
    "collapsed": true
   },
   "outputs": [],
   "source": [
    "X_good_train = train_mat[:,(clf_lasso.coef_!=0)[0]]\n",
    "RF_good = ensemble.RandomForestClassifier(n_estimators=500,oob_score=True,random_state = 1).fit(X_good_train,train[\"Label\"])\n",
    "X_good_test = test_mat[:,(clf_lasso.coef_!=0)[0]]"
   ]
  },
  {
   "cell_type": "code",
   "execution_count": 62,
   "metadata": {
    "collapsed": false
   },
   "outputs": [
    {
     "name": "stdout",
     "output_type": "stream",
     "text": [
      "Training Misclassification Rate:  0.0\n",
      "Out-of-bag Misclassification Rate:  0.4003724394785847\n",
      "Testing Misclassification Rate:  0.4894179894179894\n"
     ]
    }
   ],
   "source": [
    "pred_RF_good_test = RF_good.predict(X_good_test)\n",
    "pred_RF_good_train = RF_good.predict(X_good_train)\n",
    "print(\"Training Misclassification Rate: \", np.mean(pred_RF_good_train != train[\"Label\"]))\n",
    "print(\"Out-of-bag Misclassification Rate: \", 1 - RF_good.oob_score_)\n",
    "print(\"Testing Misclassification Rate: \", np.mean(pred_RF_good_test != test[\"Label\"]))"
   ]
  },
  {
   "cell_type": "code",
   "execution_count": null,
   "metadata": {
    "collapsed": true
   },
   "outputs": [],
   "source": []
  }
 ],
 "metadata": {
  "kernelspec": {
   "display_name": "Python 3",
   "language": "python",
   "name": "python3"
  },
  "language_info": {
   "codemirror_mode": {
    "name": "ipython",
    "version": 3
   },
   "file_extension": ".py",
   "mimetype": "text/x-python",
   "name": "python",
   "nbconvert_exporter": "python",
   "pygments_lexer": "ipython3",
   "version": "3.5.5"
  }
 },
 "nbformat": 4,
 "nbformat_minor": 1
}
